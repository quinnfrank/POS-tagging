{
 "cells": [
  {
   "cell_type": "markdown",
   "metadata": {},
   "source": [
    "# Final Project\n",
    "Quinn Frank <br>\n",
    "November 20, 2020"
   ]
  },
  {
   "cell_type": "markdown",
   "metadata": {},
   "source": [
    "# Step 1: Generative Model"
   ]
  },
  {
   "cell_type": "code",
   "execution_count": 837,
   "metadata": {},
   "outputs": [
    {
     "name": "stderr",
     "output_type": "stream",
     "text": [
      "[nltk_data] Downloading package tagsets to\n",
      "[nltk_data]     C:\\Users\\Quinn\\AppData\\Roaming\\nltk_data...\n",
      "[nltk_data]   Package tagsets is already up-to-date!\n",
      "[nltk_data] Downloading package brown to\n",
      "[nltk_data]     C:\\Users\\Quinn\\AppData\\Roaming\\nltk_data...\n",
      "[nltk_data]   Package brown is already up-to-date!\n",
      "[nltk_data] Downloading package punkt to\n",
      "[nltk_data]     C:\\Users\\Quinn\\AppData\\Roaming\\nltk_data...\n",
      "[nltk_data]   Package punkt is already up-to-date!\n",
      "[nltk_data] Downloading package averaged_perceptron_tagger to\n",
      "[nltk_data]     C:\\Users\\Quinn\\AppData\\Roaming\\nltk_data...\n",
      "[nltk_data]   Unzipping taggers\\averaged_perceptron_tagger.zip.\n"
     ]
    }
   ],
   "source": [
    "import nltk\n",
    "nltk.download(\"tagsets\")\n",
    "nltk.download(\"brown\")\n",
    "nltk.download(\"punkt\")\n",
    "nltk.download(\"averaged_perceptron_tagger\")\n",
    "# http://www.anc.org/software/anc-tool/\n",
    "\n",
    "import numpy as np\n",
    "import pandas as pd\n",
    "import matplotlib.pyplot as plt\n",
    "%matplotlib inline"
   ]
  },
  {
   "cell_type": "code",
   "execution_count": 958,
   "metadata": {},
   "outputs": [],
   "source": [
    "train = nltk.corpus.brown.tagged_sents(tagset=\"universal\")[:10000]\n",
    "test = nltk.corpus.brown.tagged_sents(tagset=\"universal\")[10000:12000]\n",
    "#train = nltk.corpus.treebank.tagged_sents()[:3000]\n",
    "#test = nltk.corpus.treebank.tagged_sents()[3000:]"
   ]
  },
  {
   "cell_type": "markdown",
   "metadata": {},
   "source": [
    "## Problem 1\n",
    "\n",
    "Below is a function which estimates the parameters of a Hidden Markov Model for part of speech tagging from a training set of tagged sentences.  The training set consists of 10,000 sentences tagged with the \"universal\" tagset.  Note the inclusion of an *\\<UNK\\>* token and the use add-$k$ smoothing (for a small $k$ value).  The set of all unique words in the training set is considered the \"vocabulary\" in this case, and as usual, case is ignored."
   ]
  },
  {
   "cell_type": "code",
   "execution_count": 685,
   "metadata": {},
   "outputs": [],
   "source": [
    "def separate_tagged_sents(tagged_sents):\n",
    "    \"\"\"Given a list of list of (token, TAG) pairs from Brown corpus,\n",
    "       returns a parallel list of tokens and a list of tags.\"\"\"\n",
    "    \n",
    "    # Combine the sentences together\n",
    "    tagged_tokens = [pair for sent in tagged_sents for pair in sent]\n",
    "    return tuple(map(list, zip(*tagged_tokens)))\n",
    "\n",
    "\n",
    "def split_tagged_sents(tagged_sents):\n",
    "    \"\"\"Given an iterable of iterable of (token, POS) pairs,\n",
    "       returns parallel iterable of iterables for tokens and POS.\n",
    "       Keeps the underlying sentence structures.\"\"\"\n",
    "    \n",
    "    untuple = lambda it: tuple(zip(*it))\n",
    "    split_sents = tuple(map(untuple, tagged_sents))\n",
    "    return untuple(split_sents)"
   ]
  },
  {
   "cell_type": "code",
   "execution_count": 493,
   "metadata": {},
   "outputs": [],
   "source": [
    "def estimate_hmm(tagged_sents, tagset=None, vocab=None):\n",
    "    \"\"\"\n",
    "    Estimates parameters of a Hidden Markov Model by MLE.  The vocabulary (size V)\n",
    "    of words are the observations and the tags (size N) are the hidden states.\n",
    "    Uses an OOV token and Laplace smoothing to avoid zero probabilities/likelihoods.\n",
    "    \n",
    "    ---Parameters---\n",
    "    - tagged_sents: list of list of (token, TAG) pairs; each sublist represents one sentence\n",
    "    - tagset: (N,) vector of unique tags to consider; inferred from data if None\n",
    "    - vocab: (V,) vector of unique words to consider; inferred from data if None\n",
    "    \n",
    "    ---Returns---\n",
    "    - A: (N, N) Markov transition matrix between states (rows sum to 1);\n",
    "      entry i,j = Pr(state i -> state j)\n",
    "    - B: (V+1, N) emission probability matrix; entry i,j = Pr(obs i | state j)\n",
    "    - pi: (N,) initial distribution over the N states\n",
    "    \"\"\"\n",
    "    \n",
    "    tokens, tags = separate_tagged_sents(tagged_sents)\n",
    "    assert len(tokens) == len(tags), \"Observations and states must be same length.\"\n",
    "    if tagset is None:\n",
    "        tagset = sorted(set(tags))\n",
    "    if vocab is None:\n",
    "        vocab = sorted(set(map(str.lower, tokens)))\n",
    "    vocab.append(\"<UNK>\")   # add an \"out of vocabulary\" token\n",
    "    \n",
    "    # Begin with unnormalized count matrices\n",
    "    A_counts = pd.DataFrame(0, dtype='int', index=tagset, columns=tagset)\n",
    "    B_counts = pd.DataFrame(0, dtype='int', index=tagset, columns=vocab)\n",
    "    pi_counts = pd.Series(0, dtype='int', index=tagset)\n",
    "    \n",
    "    # Loop over each (obs, state) pair, update corresponding counts\n",
    "    for sent in tagged_sents:\n",
    "        start_token, start_tag = sent[0]\n",
    "        pi_counts[start_tag] += 1\n",
    "        \n",
    "        for i in range(len(sent)):\n",
    "            this_token, this_tag = sent[i]\n",
    "            B_counts.loc[this_tag, this_token.lower()] += 1\n",
    "            \n",
    "            # On the last token in the sentence, nothing follows, so don't update A\n",
    "            if i != len(sent)-1:\n",
    "                next_token, next_tag = sent[i+1]\n",
    "                A_counts.loc[this_tag, next_tag] += 1\n",
    "    \n",
    "    # Apply add-k smoothing for everything (just add k to all counts, then marginalize)\n",
    "    # Laplace is too extreme for this case, anecdotally\n",
    "    smooth = 1e-4\n",
    "    A = (A_counts + smooth) / np.sum(A_counts + smooth, axis=1)[:, None]\n",
    "    B = (B_counts + smooth) / np.sum(B_counts + smooth, axis=1)[:, None]\n",
    "    pi = (pi_counts + smooth) / np.sum(pi_counts + smooth)\n",
    "    return A, B, pi"
   ]
  },
  {
   "cell_type": "code",
   "execution_count": 494,
   "metadata": {},
   "outputs": [
    {
     "name": "stdout",
     "output_type": "stream",
     "text": [
      "Wall time: 1min 34s\n"
     ]
    }
   ],
   "source": [
    "# Use pre-tagged sentences to develop HMM parameters\n",
    "%time A, B, pi = estimate_hmm(train)"
   ]
  },
  {
   "cell_type": "markdown",
   "metadata": {},
   "source": [
    "## Problem 2\n",
    "\n",
    "Below is an implementation of the Viterbi algorithm for predicting hidden states from observations under a Hidden Markov Model."
   ]
  },
  {
   "cell_type": "code",
   "execution_count": 495,
   "metadata": {},
   "outputs": [],
   "source": [
    "def viterbi(obs, pi, A, B):\n",
    "    \"\"\"\n",
    "    Implements the Viterbi dynamic programming algorithm to decode\n",
    "    (i.e., assign parts of speech) to a series of observations.\n",
    "    \n",
    "    ---Parameters---\n",
    "    - obs: a (T,) list of list of observations; stored as ints which index the vocabulary;\n",
    "      each sublist is a sentence\n",
    "    - pi, A, B: the initial state distribution, transmission probability matrix,\n",
    "      and emission probability matrix produced by `estimate_hmm`\n",
    "    \n",
    "    ---Returns---\n",
    "    - states: a (T,) list of list of inferred states; stored as ints which index the tagset;\n",
    "      each sublist is a sentence\n",
    "    \"\"\"\n",
    "    \n",
    "    all_states = []\n",
    "    # Convert pi, A, and B to ndarrays and convert to log space to avoid underflow\n",
    "    pi = np.log(pi.to_numpy())\n",
    "    A = np.log(A.to_numpy())\n",
    "    B = np.log(B.to_numpy())    \n",
    "    \n",
    "    for sentence_obs in obs:\n",
    "        viterbi = np.zeros((len(pi), len(sentence_obs)))     # probability matrix (also log space)\n",
    "        backpointer = np.zeros(viterbi.shape, dtype='int')   # int entries encoding path's last location\n",
    "    \n",
    "        # Treat the initial state separately\n",
    "        viterbi[:, 0] = pi + B[:, sentence_obs[0]]\n",
    "        backpointer[:, 0] = -1\n",
    "        #print(f\"\\n{pd.Series(viterbi[:, 0].round(2), index=tagset).sort_values()}\")\n",
    "        \n",
    "        # Compute the Viterbi probs / backpointers dynamically, based only on previous column\n",
    "        for t in range(1, len(sentence_obs)):\n",
    "            for s in range(len(pi)):\n",
    "                # Figure out the optimal path to state 's' at observation 't'\n",
    "                path_likes = viterbi[:, t-1] + A[:, s] + B[s, sentence_obs[t]]\n",
    "                viterbi[s, t] = np.max(path_likes)\n",
    "                backpointer[s, t] = np.argmax(path_likes)\n",
    "            #print(f\"\\n{pd.Series(viterbi[:, t].round(2), index=tagset).sort_values()}\")\n",
    "        \n",
    "        # Final path is the max of last column - follow path back to get all states\n",
    "        states = [np.argmax(viterbi[:, -1])]\n",
    "        for t in range(1, len(sentence_obs))[::-1]:\n",
    "            states.append(backpointer[states[-1], t])\n",
    "        states = states[::-1]\n",
    "        all_states.append(states)\n",
    "    \n",
    "    return all_states"
   ]
  },
  {
   "cell_type": "markdown",
   "metadata": {},
   "source": [
    "## Problem 3\n",
    "\n",
    "Below are some helper functions to convert lists of words and tags to index form, given a vocabulary and a set of tags being considered.  There is also a function to visualize the comparison between correct tagging and predicted tagging, to manually assess the effectiveness of the algorithm.\n",
    "\n",
    "The test set consists of three unseen sentences from the Brown corpus, and as can be seen, the Viterbi algorithm is very successful in inferring the hidden parts of speech, even when the token is foreign to the original vocabulary."
   ]
  },
  {
   "cell_type": "code",
   "execution_count": 686,
   "metadata": {},
   "outputs": [],
   "source": [
    "def get_loc(index, entry, default):\n",
    "    \"\"\"Overloaded `get_loc` method from pd.Series.Index.\n",
    "       If entry is in the `index`, returns the integer location.\n",
    "       If not, returns the location of the default value (default must be in `index`).\"\"\"\n",
    "    \n",
    "    try:\n",
    "        return index.get_loc(entry)\n",
    "    except KeyError:\n",
    "        return index.get_loc(default)\n",
    "\n",
    "    \n",
    "def index_tagged_sents(tagged_sents, tagset, vocab):\n",
    "    \"\"\"Given a list of list of (token, TAG) pairs from Brown corpus,\n",
    "       returns a list of list of tokens and tags as indexes\n",
    "       on the corresponding tagset and vocabulary.\"\"\"\n",
    "    \n",
    "    tokens, tags = [], []\n",
    "    \n",
    "    for i, sentence in enumerate(tagged_sents):\n",
    "        sub_tokens, sub_tags = tuple(map(list, zip(*sentence)))\n",
    "        tags.append([get_loc(tagset, tag, \"X\") for tag in sub_tags])\n",
    "        tokens.append([get_loc(vocab, token.lower(), \"<UNK>\") for token in sub_tokens])\n",
    "        \n",
    "    return tokens, tags"
   ]
  },
  {
   "cell_type": "code",
   "execution_count": 497,
   "metadata": {},
   "outputs": [],
   "source": [
    "def visualize_tagging(token_idx, tag_idx, predict_tag_idx, vocab, tagset):\n",
    "    \"\"\"Creates a nicely-formatted printout comparing the correct part of speech\n",
    "       tagging for a sentence with the HMM-predicted tags.\"\"\"\n",
    "    \n",
    "    for i in range(len(token_idx)):\n",
    "        df = pd.DataFrame({'correct': tagset[tag_idx[i]],\n",
    "                           'predict': tagset[predict_tag_idx[i]]},\n",
    "                          index = vocab[token_idx[i]])\n",
    "        print(f\"\\n-----------------------------\\n{df}\")"
   ]
  },
  {
   "cell_type": "code",
   "execution_count": 498,
   "metadata": {},
   "outputs": [
    {
     "name": "stdout",
     "output_type": "stream",
     "text": [
      "Wall time: 3.57 s\n"
     ]
    }
   ],
   "source": [
    "tagset, vocab = B.index, B.columns\n",
    "token_idx, tag_idx = index_tagged_sents(test, tagset, vocab)\n",
    "%time predict_tag_idx = viterbi(token_idx, pi, A, B)\n",
    "\n",
    "#visualize_tagging(token_idx, tag_idx, predict_tag_idx, vocab, tagset)"
   ]
  },
  {
   "cell_type": "code",
   "execution_count": 752,
   "metadata": {},
   "outputs": [],
   "source": [
    "class HMM():\n",
    "    \"\"\"Class which encapsulates a Hidden Markov Model, calling the subroutines\n",
    "       `estimate_hmm` and `viterbi` defined above to fit and predict datasets.\n",
    "       \n",
    "       Initialization parameters:\n",
    "       - tagset = iterable of unique tags, in some order\n",
    "       - vocab = iterable of unique tokens, in some order\n",
    "         (if either of these is not provided, they will be inferred after .fit() is called)\n",
    "       - default_tag = how to encode unknown token (X by default)\n",
    "       - default_token = how to encode OOV token (<UNK> by default)\"\"\"\n",
    "    \n",
    "    def __init__(self, tagset=None, vocab=None, default_tag=\"X\", default_token=\"<UNK>\"):\n",
    "        self.tagset = tagset\n",
    "        self.vocab = vocab\n",
    "        self.default_tag = default_tag\n",
    "        self.default_token = default_token\n",
    "        \n",
    "    def fit(self, tagged_sents):\n",
    "        \"\"\"Given an iterable of iterable of (token, POS) pairs,\n",
    "           infers parameters of HMM, storing as attributes of this object.\"\"\"\n",
    "        \n",
    "        A, B, pi = estimate_hmm(tagged_sents, self.tagset, self.vocab)\n",
    "        # Update the tagset and vocab\n",
    "        self.tagset = B.index\n",
    "        self.vocab = B.columns\n",
    "        self.A = A\n",
    "        self.B = B\n",
    "        self.pi = pi\n",
    "    \n",
    "    def split_predict(self, tagged_sents):\n",
    "        \"\"\"Given an iterable of iterable of (token, POS) pairs,\n",
    "           splits into [...[...token]], [...[...POS]] iterables and\n",
    "           returns parallel true POS indices, predicted POS indices\"\"\"\n",
    "        \n",
    "        # Cannot generate until the HMM parameters are inferred\n",
    "        assert hasattr(self, \"pi\"), \"Must call .fit() before .split_predict()\"\n",
    "        \n",
    "        sent_list, tag_lists = split_tagged_sents(tagged_sents)\n",
    "        \n",
    "        # Compute the token indices, then run through Viterbi to predict\n",
    "        X = [[get_loc(self.vocab, token.lower(), self.default_token) for token in sent]\n",
    "             for sent in sent_list]\n",
    "        y_predict = viterbi(X, self.pi, self.A, self.B)\n",
    "        # Compute the true tag indices, to compare with Viterbi result\n",
    "        y_true = [[get_loc(self.tagset, tag, self.default_tag) for tag in tag_list]\n",
    "                  for tag_list in tag_lists]\n",
    "        \n",
    "        return y_true, y_predict\n",
    "    \n",
    "    def generate(self, size, max_len=100):\n",
    "        \"\"\"Generates an artificial labeled dataset from fitted HMM parameters.\n",
    "           Produces `size` number of sentences, stopping either when end punctuation\n",
    "           [.!?] is reached or the maximum sentence length is reached.\n",
    "           Returns an iterable of iterable of (token, POS) pairs.\"\"\"\n",
    "        \n",
    "        # Cannot generate until the HMM parameters are inferred\n",
    "        assert hasattr(self, \"pi\"), \"Must call .fit() before .generate()\"\n",
    "        \n",
    "        tagged_sents = []\n",
    "        for i in range(size):\n",
    "            sent = []\n",
    "            stop_condition = False\n",
    "            \n",
    "            # Draw the starting state from initial distribution\n",
    "            pos = np.random.choice(self.tagset, p=self.pi)\n",
    "            # For each POS: (1) draw token from emission probability dist P(token | POS)\n",
    "            #               (2) wrap POS and token together, add to current sentence\n",
    "            #               (3) if not stop condition, draw a new POS from\n",
    "            #                   transition probability dist P(POS_t+1 | POS_t)\n",
    "            while not stop_condition:\n",
    "                token = np.random.choice(self.vocab, p=self.B.loc[pos, :])\n",
    "                sent.append((token, pos))\n",
    "                if token in {'.', '!', '?'} or len(sent) >= max_len:\n",
    "                    stop_condition = True\n",
    "                else:\n",
    "                    pos = np.random.choice(self.tagset, p=self.A.loc[pos, :])\n",
    "            \n",
    "            tagged_sents.append(sent)\n",
    "        return tagged_sents"
   ]
  },
  {
   "cell_type": "code",
   "execution_count": 923,
   "metadata": {},
   "outputs": [
    {
     "name": "stdout",
     "output_type": "stream",
     "text": [
      "Wall time: 33.6 s\n",
      "Wall time: 8.23 s\n"
     ]
    }
   ],
   "source": [
    "hmm = HMM()\n",
    "%time hmm.fit(train)\n",
    "%time y_true, y_predict = hmm.split_predict(test)"
   ]
  },
  {
   "cell_type": "markdown",
   "metadata": {},
   "source": [
    "# Step 3: Discriminative Neural Network"
   ]
  },
  {
   "cell_type": "code",
   "execution_count": 501,
   "metadata": {},
   "outputs": [],
   "source": [
    "import torch\n",
    "import torch.nn as nn\n",
    "from torch.nn.utils.rnn import pad_sequence\n",
    "\n",
    "from gensim.models import Word2Vec, FastText"
   ]
  },
  {
   "cell_type": "code",
   "execution_count": 967,
   "metadata": {},
   "outputs": [
    {
     "name": "stdout",
     "output_type": "stream",
     "text": [
      "Wall time: 26.1 s\n"
     ]
    }
   ],
   "source": [
    "# Train a FastText word embedder to convert words to dense vector form\n",
    "\n",
    "def train_fasttext(untagged_sents, *args, **kwargs):\n",
    "    \"\"\"Trains a FastText word embedder to convert words to dense vector form.\n",
    "       Input must be an iterable of iterable of tokens (UNTAGGED).\"\"\"\n",
    "    \n",
    "    embedder = FastText(untagged_train, *args, **kwargs)\n",
    "    return embedder\n",
    "\n",
    "%time embedder = train_fasttext(nltk.corpus.brown.sents())"
   ]
  },
  {
   "cell_type": "code",
   "execution_count": 909,
   "metadata": {},
   "outputs": [],
   "source": [
    "def get_loc(index, entry, default=None):\n",
    "    \"\"\"Overloaded `get_loc` method from pd.Series.Index.\n",
    "       If entry is in the `index`, returns the integer location.\n",
    "       If not, returns the location of the default value (default must be in `index`).\"\"\"\n",
    "    \n",
    "    try:\n",
    "        return index.get_loc(entry)\n",
    "    except KeyError:\n",
    "        return index.get_loc(default)\n",
    "    \n",
    "\n",
    "def split_tagged_sents(tagged_sents):\n",
    "    \"\"\"Given an iterable of iterable of (token, POS) pairs,\n",
    "       returns parallel iterable of iterables for tokens and POS.\n",
    "       Keeps the underlying sentence structures.\"\"\"\n",
    "    \n",
    "    untuple = lambda it: tuple(zip(*it))\n",
    "    split_sents = tuple(map(untuple, tagged_sents))\n",
    "    return untuple(split_sents)"
   ]
  },
  {
   "cell_type": "code",
   "execution_count": 925,
   "metadata": {},
   "outputs": [],
   "source": [
    "class POSDataset(torch.utils.data.Dataset):\n",
    "    \"\"\"Custom Dataset class which digests an NLTK tagged dataset\n",
    "       and converts sentences to torch tensors dynamically.\n",
    "       \n",
    "       > dataset = POSDataset(train, embedder, tagset)\n",
    "       dataset[batch_idx] returns a tuple of the form:\n",
    "       - tokens = float tensor of size (seq_len, batch_size, input_size)\n",
    "         NOTE: if sequences are different lengths, the sequences which are too short\n",
    "         will have padding along dim=2; dataset is sorted by sentence length to minimize this\n",
    "       - tags = int tensor of size (seq_len, batch_size, 1)\n",
    "       - mask = boolean tensor of size (seq_len * batch_size) indicating non-padded values\n",
    "       \n",
    "       Initialization parameters:\n",
    "       - sentences = an iterable of iterable (token, POS) pairs\n",
    "       - embedder = a TRAINED gensim embedder network like Word2Vec or FastText\n",
    "       - tagset = an iterable of tags, in some fixed order\"\"\"\n",
    "    \n",
    "    def __init__(self, sentences, embedder, tagset):\n",
    "        self.sentences = sentences\n",
    "        self.embedder = embedder\n",
    "        self.tagset = tagset\n",
    "    \n",
    "    def shuffle(self):\n",
    "        # Shuffles around sentences, while keeping similar-length sentences together\n",
    "        self.sentences = sorted(self.sentences,\n",
    "                                key=lambda sent: (len(sent), np.random.random()))\n",
    "        \n",
    "    def __len__(self):\n",
    "        return len(self.sentences)\n",
    "    \n",
    "    def __getitem__(self, index):\n",
    "        these_sentences = self.sentences[index]\n",
    "        # If an integer is passed in, this could break, need to wrap in another list\n",
    "        if type(index) is int:\n",
    "            print(these_sentences)\n",
    "            these_sentences = [these_sentences]\n",
    "            \n",
    "        sent_list, tag_lists = split_tagged_sents(these_sentences)\n",
    "        \n",
    "        # Convert both the words and tags to numerical form\n",
    "        embedded_list = [torch.tensor(embedder.wv[sent]) for sent in sent_list]\n",
    "        label_list = [torch.tensor([get_loc(self.tagset, tag, \"X\") for tag in tag_list])\n",
    "                      for tag_list in tag_lists]\n",
    "        \n",
    "        # If sequence lengths are difference,\n",
    "        # pad the end of the embeddings and labels for the shorter sentences\n",
    "        null_pad = get_loc(self.tagset, \"X\", \"-NONE-\")\n",
    "        X_pad = pad_sequence(embedded_list)\n",
    "        y_pad = pad_sequence(label_list, padding_value=-1)\n",
    "        \n",
    "        # Find where the null-padded values are, so the loss function can ignore them\n",
    "        mask = y_pad != -1\n",
    "        y_pad[y_pad == -1] = null_pad\n",
    "        \n",
    "        return X_pad, y_pad, mask"
   ]
  },
  {
   "cell_type": "code",
   "execution_count": 926,
   "metadata": {},
   "outputs": [],
   "source": [
    "class POSDataLoader():\n",
    "    \"\"\"Custom DataLoader-like object that works with POSDataset.\"\"\"\n",
    "    \n",
    "    def __init__(self, dataset, batch_size, shuffle=True):\n",
    "        assert type(dataset) is POSDataset, \"Only supports POSDataset objects\"\n",
    "        self.dataset = dataset\n",
    "        self.batch_size = batch_size\n",
    "        self.shuffle = shuffle\n",
    "        \n",
    "    def __iter__(self):\n",
    "        if self.shuffle: self.dataset.shuffle()\n",
    "        return POSDataIterator(self.dataset, self.batch_size)\n",
    "    \n",
    "\n",
    "class POSDataIterator():\n",
    "    \"\"\"Iterator object which returns (X, y) pairs from a POSDataset of specified\n",
    "       batch size until it reaches the end.\"\"\"\n",
    "    \n",
    "    def __init__(self, dataset, batch_size):\n",
    "        self.dataset = dataset\n",
    "        self.batch_size = batch_size\n",
    "        # Keep track of the pointer's location on the batch index\n",
    "        self._idx = 0\n",
    "        \n",
    "    def __next__(self):\n",
    "        # Returns the next (X, y) pair\n",
    "        if self._idx >= len(self.dataset):\n",
    "            raise StopIteration\n",
    "        else:\n",
    "            start_idx = self._idx\n",
    "            end_idx = start_idx + self.batch_size\n",
    "            self._idx = end_idx\n",
    "            return self.dataset[start_idx:end_idx]"
   ]
  },
  {
   "cell_type": "code",
   "execution_count": 927,
   "metadata": {},
   "outputs": [],
   "source": [
    "# Architecture\n",
    "# https://github.com/bentrevett/pytorch-pos-taggin\n",
    "# /blob/master/1%20-%20BiLSTM%20for%20PoS%20Tagging.ipynb\n",
    "\n",
    "class BLSTM(nn.Module):\n",
    "    \"\"\"Bidirectional, stacked LSTM RNN for sequence to sequence translation.\n",
    "       Given a variable-length time-indexed sequence of word embeddings, produces a\n",
    "       probability distribution over a finite tagset, for supervised learning.\n",
    "       \n",
    "       input shape:  (seq_len, batch_size, input_size),\n",
    "       output shape: (seq_len, batch_size, output_size), softmax along dim=2\"\"\"\n",
    "    \n",
    "    def __init__(self, embed_size, hidden_size, num_layers, output_size):\n",
    "        super(BLSTM, self).__init__()\n",
    "        self.lstm = nn.LSTM(input_size=embed_size,\n",
    "                            hidden_size=hidden_size,\n",
    "                            num_layers=num_layers,\n",
    "                            bidirectional=True,\n",
    "                            dropout=0.25)\n",
    "        self.classify = nn.Sequential(nn.Linear(2 * hidden_size, output_size),\n",
    "                                      nn.Dropout(0.25))\n",
    "        \n",
    "    def forward(self, X):\n",
    "        output, (h, c) = self.lstm(X)\n",
    "        return self.classify(output)\n",
    "    \n",
    "    def predict(self, X):\n",
    "        \"\"\"Once model is TRAINED, call to predict y labels on input.\n",
    "           \n",
    "           input shape: (seq_len, batch_size, input_size),\n",
    "           output shape: (seq_len, batch_size)\"\"\"\n",
    "        \n",
    "        # WARNING: Due to post-padding, it could be very memory-intensive to run\n",
    "        # a large batch of embedded vectors; recommended to use .split_predict()\n",
    "        return torch.argmax(self.forward(X), dim=2)\n",
    "    \n",
    "    def split_predict(self, dataset, batch_size=64):\n",
    "        \"\"\"Given a POSDataset object, returns parallel true POS indices,\n",
    "           predicted POS indices (list of tensors, without padding).\n",
    "           Made to be compatible with HMM .split_predict() method\"\"\"\n",
    "        \n",
    "        y_true, y_predict = [], []\n",
    "        loader = POSDataLoader(dataset, batch_size, shuffle=False)\n",
    "        for X, y, mask in loader:\n",
    "            yhat = self.predict(X)\n",
    "            \n",
    "            for i in range(X.shape[1]):\n",
    "                y_true.append(y[:, i][mask[:, i]].tolist())\n",
    "                y_predict.append(yhat[:, i][mask[:, i]].tolist())\n",
    "                \n",
    "        return y_true, y_predict"
   ]
  },
  {
   "cell_type": "code",
   "execution_count": 928,
   "metadata": {},
   "outputs": [],
   "source": [
    "# Training function\n",
    "\n",
    "def train_BLSTM(model, train_set, test_set,\n",
    "                num_epochs=100, batch_size=16,\n",
    "                use_cuda=True, train_summ=None, print_every=1):\n",
    "    \"\"\"Trains a BLSTM model for some fixed number of epochs.\n",
    "       Loads data in batches, shuffling after each full epoch\n",
    "       (if sentence lengths are difference, post-padding is added and ignored in loss calculation).\n",
    "       Prints logs of train/test accuracy after each epoch and returns\n",
    "       plottable dictionary of training results.\n",
    "       \n",
    "       Parameters\n",
    "       - num_epochs: the number of epochs over train_set\n",
    "       - batch_size: how many sentences from train_set to run before updating weights\n",
    "                     (if sentence lengths are uneven, padding occurs at the end)\n",
    "       - train_summ: summary dictionary produced by previous function call;\n",
    "                     use to continue training while maintaining previous history\n",
    "       - print_every: how often loss function statistics should be printed, in epochs\n",
    "    \"\"\"\n",
    "    \n",
    "    # Move to GPU if possible; batches get moved as needed to save on memory\n",
    "    device = \"cuda:0\" if use_cuda and torch.cuda.is_available() else \"cpu\"\n",
    "    \n",
    "    # model(X) and y come out as 3d tensors\n",
    "    # Need to combine seq_len and batch_size along dim=0 to calculate loss\n",
    "    flatten = nn.Flatten(0, 1)\n",
    "    criterion = nn.CrossEntropyLoss()\n",
    "    optimizer = torch.optim.SGD(model.parameters(), lr=0.01, momentum=0.8)\n",
    "    \n",
    "    # Initialize a dictionary summarizing training, if one not provided\n",
    "    if train_summ is None:\n",
    "        train_summ = {'loss': [],        # one per batch\n",
    "                      'train_acc': [],   # one per epoch\n",
    "                      'test_acc': [],    # one per epoch\n",
    "                      'num_epochs': num_epochs}\n",
    "    else: train_summ['num_epochs'] += num_epochs\n",
    "    \n",
    "    train_loader = POSDataLoader(train_set, batch_size, shuffle=True)\n",
    "    test_loader = POSDataLoader(test_set, batch_size)\n",
    "    \n",
    "    for epoch in range(num_epochs):\n",
    "        # Only let the model be in training mode in this block\n",
    "        model.train()\n",
    "        \n",
    "        for X, y, mask in train_loader:\n",
    "            X = X.clone().to(device)\n",
    "            y = y.clone().to(device)\n",
    "            \n",
    "            optimizer.zero_grad()\n",
    "            \n",
    "            # Apply a Boolean mask to ignore the post-padding values\n",
    "            # This also flattens to (N, #classes) format for CrossEntropyLoss\n",
    "            #print(sum(mask))\n",
    "            loss = criterion(model(X)[mask, :], y[mask])\n",
    "            loss.backward()\n",
    "            optimizer.step()\n",
    "            train_summ['loss'].append(loss.detach().cpu().item())\n",
    "        \n",
    "        # Evaluate how the model is performing on the entire training/testing sets\n",
    "        train_acc, test_acc = eval_BLSTM(model, train_loader, test_loader, device)  \n",
    "        train_summ['train_acc'].append(train_acc)\n",
    "        train_summ['test_acc'].append(test_acc)\n",
    "        \n",
    "        if (epoch+1) % print_every == 0:\n",
    "            print(f\"- EPOCH {epoch+1}:\" + \n",
    "                  f\"\\n  train loss = {train_summ['loss'][-1]}\" +\n",
    "                  f\"\\n  accuracy   = \" +\n",
    "                  f\"{round(train_acc, 4)} (train) / {round(test_acc, 4)} (test)\" +\n",
    "                  \"\\n----------------------------\")\n",
    "    \n",
    "    assert not model.training\n",
    "    return train_summ\n",
    "\n",
    "\n",
    "def eval_BLSTM(model, train_loader, test_loader, device):\n",
    "    \"\"\"Evaluates model on provided training and testing set.\n",
    "       Due to memory limits, must take in data loaders and predict in batches.\n",
    "       Returns float values (train_acc, test_acc)\"\"\"\n",
    "    \n",
    "    # Set the model to evaluation mode to ignore non-deterministic effects like dropout\n",
    "    model.eval()\n",
    "    train_checks, test_checks = [], []\n",
    "    \n",
    "    # Train predict\n",
    "    for X, y, mask in train_loader:\n",
    "        X = X.clone().to(device)\n",
    "        y = y.clone().to(device)\n",
    "        y_predict = model.predict(X)\n",
    "        train_checks.append(y[mask] == y_predict[mask])\n",
    "    train_checks = torch.cat(train_checks).float()\n",
    "    train_acc = torch.mean(train_checks).cpu().item()\n",
    "    \n",
    "    # Test predict\n",
    "    for X, y, mask in test_loader:\n",
    "        X = X.clone().to(device)\n",
    "        y = y.clone().to(device)\n",
    "        y_predict = model.predict(X)\n",
    "        test_checks.append(y[mask] == y_predict[mask])\n",
    "    test_checks = torch.cat(test_checks).float()\n",
    "    test_acc = torch.mean(test_checks).cpu().item()\n",
    "    \n",
    "    return train_acc, test_acc"
   ]
  },
  {
   "cell_type": "code",
   "execution_count": 929,
   "metadata": {},
   "outputs": [],
   "source": [
    "# Plotting training summaries\n",
    "\n",
    "def plot_train_summ(train_summ):\n",
    "    \"\"\"Produces plots that summarize and compare training of a model.\n",
    "       Input should be a dictionary of the form:\n",
    "       {loss: [...],\n",
    "        train_acc: [...], test_acc: [...],\n",
    "        num_epochs: ### } (dict returned by train_*) }\"\"\"\n",
    "     \n",
    "    fig, ax = plt.subplots(figsize=(10, 5))\n",
    "    epochs = np.linspace(0, train_summ['num_epochs'], len(train_summ['loss']))\n",
    "    ax.plot(epochs, train_summ['loss'], label=\"train\")\n",
    "    ax.legend()\n",
    "    ax.set_title(f\"Training Curve for BLSTM\")\n",
    "    ax.set_xlabel(\"epoch number\")\n",
    "    ax.set_ylabel(\"cross-entropy loss\")\n",
    "    plt.show()\n",
    "    \n",
    "    fig, ax = plt.subplots(figsize=(10, 5))\n",
    "    epochs = range(train_summ['num_epochs'])\n",
    "    for dataset in [\"train\", \"test\"]:\n",
    "        ax.plot(epochs, train_summ[f'{dataset}_acc'], label=dataset)\n",
    "    ax.legend()\n",
    "    ax.set_title(f\"Classification Accuracy for BLSTM\")\n",
    "    ax.set_xlabel(\"epoch number\")\n",
    "    ax.set_ylabel(\"accuracy\")\n",
    "    ax.legend()\n",
    "    plt.show()"
   ]
  },
  {
   "cell_type": "code",
   "execution_count": 934,
   "metadata": {},
   "outputs": [],
   "source": [
    "tagset = hmm.tagset\n",
    "train_set = POSDataset(train, embedder, tagset)\n",
    "test_set = POSDataset(test, embedder, tagset)\n",
    "model = BLSTM(100, 128, 2, len(tagset)).cuda()"
   ]
  },
  {
   "cell_type": "code",
   "execution_count": 955,
   "metadata": {},
   "outputs": [
    {
     "name": "stdout",
     "output_type": "stream",
     "text": [
      "- EPOCH 1:\n",
      "  train loss = 0.8624879121780396\n",
      "  accuracy   = 0.9363 (train) / 0.9179 (test)\n",
      "----------------------------\n",
      "- EPOCH 2:\n",
      "  train loss = 0.8795434832572937\n",
      "  accuracy   = 0.9369 (train) / 0.9177 (test)\n",
      "----------------------------\n",
      "- EPOCH 3:\n",
      "  train loss = 0.8463612794876099\n",
      "  accuracy   = 0.9365 (train) / 0.9185 (test)\n",
      "----------------------------\n",
      "- EPOCH 4:\n",
      "  train loss = 0.8274127840995789\n",
      "  accuracy   = 0.9375 (train) / 0.9182 (test)\n",
      "----------------------------\n",
      "- EPOCH 5:\n",
      "  train loss = 0.846168577671051\n",
      "  accuracy   = 0.9372 (train) / 0.9182 (test)\n",
      "----------------------------\n",
      "- EPOCH 6:\n",
      "  train loss = 0.8987814784049988\n",
      "  accuracy   = 0.9371 (train) / 0.9188 (test)\n",
      "----------------------------\n",
      "- EPOCH 7:\n",
      "  train loss = 0.8730921149253845\n",
      "  accuracy   = 0.9378 (train) / 0.919 (test)\n",
      "----------------------------\n",
      "- EPOCH 8:\n",
      "  train loss = 0.7652395367622375\n",
      "  accuracy   = 0.9391 (train) / 0.9194 (test)\n",
      "----------------------------\n",
      "- EPOCH 9:\n",
      "  train loss = 0.8477320671081543\n",
      "  accuracy   = 0.9388 (train) / 0.9185 (test)\n",
      "----------------------------\n",
      "- EPOCH 10:\n",
      "  train loss = 0.8189976215362549\n",
      "  accuracy   = 0.9391 (train) / 0.9187 (test)\n",
      "----------------------------\n",
      "- EPOCH 11:\n",
      "  train loss = 0.8374318480491638\n",
      "  accuracy   = 0.9389 (train) / 0.9196 (test)\n",
      "----------------------------\n",
      "- EPOCH 12:\n",
      "  train loss = 0.7524840831756592\n",
      "  accuracy   = 0.9398 (train) / 0.9197 (test)\n",
      "----------------------------\n",
      "- EPOCH 13:\n",
      "  train loss = 0.8450400829315186\n",
      "  accuracy   = 0.9399 (train) / 0.9203 (test)\n",
      "----------------------------\n",
      "- EPOCH 14:\n",
      "  train loss = 0.8221167922019958\n",
      "  accuracy   = 0.9407 (train) / 0.92 (test)\n",
      "----------------------------\n",
      "- EPOCH 15:\n",
      "  train loss = 0.8187098503112793\n",
      "  accuracy   = 0.9408 (train) / 0.9196 (test)\n",
      "----------------------------\n",
      "- EPOCH 16:\n",
      "  train loss = 0.8422834277153015\n",
      "  accuracy   = 0.9413 (train) / 0.9201 (test)\n",
      "----------------------------\n",
      "- EPOCH 17:\n",
      "  train loss = 0.8192861080169678\n",
      "  accuracy   = 0.941 (train) / 0.9203 (test)\n",
      "----------------------------\n",
      "- EPOCH 18:\n",
      "  train loss = 0.8724364638328552\n",
      "  accuracy   = 0.9414 (train) / 0.9206 (test)\n",
      "----------------------------\n",
      "- EPOCH 19:\n",
      "  train loss = 0.8600376844406128\n",
      "  accuracy   = 0.9415 (train) / 0.9201 (test)\n",
      "----------------------------\n",
      "- EPOCH 20:\n",
      "  train loss = 0.8433163166046143\n",
      "  accuracy   = 0.9425 (train) / 0.9213 (test)\n",
      "----------------------------\n",
      "Wall time: 1min 16s\n"
     ]
    }
   ],
   "source": [
    "%time summ = train_BLSTM(model, train_set, test_set, \\\n",
    "                         num_epochs=20, batch_size=16, use_cuda=True, train_summ=summ)"
   ]
  },
  {
   "cell_type": "code",
   "execution_count": 956,
   "metadata": {},
   "outputs": [
    {
     "data": {
      "image/png": "[encoded data removed]",
      "text/plain": [
       "<Figure size 720x360 with 1 Axes>"
      ]
     },
     "metadata": {
      "needs_background": "light"
     },
     "output_type": "display_data"
    },
    {
     "data": {
      "image/png": "[encoded data removed]",
      "text/plain": [
       "<Figure size 720x360 with 1 Axes>"
      ]
     },
     "metadata": {
      "needs_background": "light"
     },
     "output_type": "display_data"
    }
   ],
   "source": [
    "plot_train_summ(summ)"
   ]
  },
  {
   "cell_type": "code",
   "execution_count": 970,
   "metadata": {},
   "outputs": [
    {
     "data": {
      "text/plain": [
       "Index(['#', '$', '''', ',', '-LRB-', '-NONE-', '-RRB-', '.', ':', 'CC', 'CD',\n",
       "       'DT', 'EX', 'FW', 'IN', 'JJ', 'JJR', 'JJS', 'LS', 'MD', 'NN', 'NNP',\n",
       "       'NNPS', 'NNS', 'PDT', 'POS', 'PRP', 'PRP$', 'RB', 'RBR', 'RBS', 'RP',\n",
       "       'SYM', 'TO', 'UH', 'VB', 'VBD', 'VBG', 'VBN', 'VBP', 'VBZ', 'WDT', 'WP',\n",
       "       'WP$', 'WRB', '``'],\n",
       "      dtype='object')"
      ]
     },
     "execution_count": 970,
     "metadata": {},
     "output_type": "execute_result"
    }
   ],
   "source": [
    "tagset"
   ]
  },
  {
   "cell_type": "markdown",
   "metadata": {},
   "source": [
    "# Step 4: Generating Artificial Data"
   ]
  },
  {
   "cell_type": "code",
   "execution_count": 937,
   "metadata": {},
   "outputs": [
    {
     "name": "stdout",
     "output_type": "stream",
     "text": [
      "Wall time: 11.4 s\n"
     ]
    }
   ],
   "source": [
    "# Generate an artificial tagged dataset to test on\n",
    "%time artificial = hmm.generate(1000)"
   ]
  },
  {
   "cell_type": "code",
   "execution_count": 957,
   "metadata": {},
   "outputs": [
    {
     "name": "stdout",
     "output_type": "stream",
     "text": [
      "tensor([45, 16, 11, 28, 20, 11, 20,  5, 28, 23, 20, 19, 33, 35, 14,  7, 35, 35,\n",
      "        23, 11, 38, 11, 37, 20, 11, 20, 23,  7, 20, 14,  7, 20, 12, 20, 40, 23,\n",
      "         5,  7, 33, 10, 20, 14, 14, 31, 38,  5, 33, 35, 20, 25, 21, 21, 14, 21,\n",
      "        15,  7])\n",
      "tensor([45, 20, 41, 28, 21, 11, 20,  5, 28, 21, 23, 19, 33, 15, 14,  7, 35, 35,\n",
      "        23, 11, 38, 11, 37, 20, 11, 20, 23,  7, 20, 14,  7, 40, 12, 37, 40, 23,\n",
      "         5,  7, 33, 10, 20, 14, 14, 28, 38,  5, 33, 35, 20, 40,  5,  5, 14, 21,\n",
      "        21,  7])\n"
     ]
    }
   ],
   "source": [
    "artificial_set = POSDataset(artificial, embedder, hmm.tagset)\n",
    "model.cpu()\n",
    "X, y, mask = artificial_set[:5]\n",
    "print(model.predict(X)[mask])\n",
    "print(y[mask])"
   ]
  },
  {
   "cell_type": "markdown",
   "metadata": {},
   "source": [
    "# Step 5: Accessing Real Data"
   ]
  },
  {
   "cell_type": "code",
   "execution_count": 833,
   "metadata": {},
   "outputs": [],
   "source": [
    "from nltk.tag import pos_tag\n",
    "from nltk.tokenize import sent_tokenize, word_tokenize"
   ]
  },
  {
   "cell_type": "code",
   "execution_count": 844,
   "metadata": {},
   "outputs": [
    {
     "data": {
      "text/plain": [
       "[('Hooray', 'NOUN'),\n",
       " ('for', 'ADP'),\n",
       " ('#', '.'),\n",
       " ('sentences', 'NOUN'),\n",
       " ('...', '.')]"
      ]
     },
     "execution_count": 844,
     "metadata": {},
     "output_type": "execute_result"
    }
   ],
   "source": [
    "string = \"I'm not making a sentence!  Hooray for #sentences...\"\n",
    "pos_tag(word_tokenize(sent_tokenize(string)[1]), tagset=\"universal\")"
   ]
  },
  {
   "cell_type": "code",
   "execution_count": 879,
   "metadata": {},
   "outputs": [],
   "source": [
    "moby_words = nltk.corpus.gutenberg.words(\"melville-moby_dick.txt\")\n",
    "moby = list(map(lambda sent: pos_tag(word_tokenize(sent), tagset='universal'),\n",
    "                sent_tokenize(' '.join(moby_words))))"
   ]
  },
  {
   "cell_type": "code",
   "execution_count": 880,
   "metadata": {},
   "outputs": [],
   "source": [
    "moby_set = POSDataset(moby[:1000], embedder, hmm.tagset)\n",
    "model.cpu()\n",
    "g_true, g_predict = hmm.split_predict(moby[:1000])\n",
    "d_true, d_predict = model.split_predict(moby_set)"
   ]
  },
  {
   "cell_type": "code",
   "execution_count": 884,
   "metadata": {},
   "outputs": [
    {
     "name": "stdout",
     "output_type": "stream",
     "text": [
      "[('By', 'ADP'), ('art', 'NOUN'), ('is', 'VERB'), ('created', 'VERB'), ('that', 'ADP'), ('great', 'ADJ'), ('Leviathan', 'NOUN'), (',', '.'), ('called', 'VERB'), ('a', 'DET'), ('Commonwealth', 'NOUN'), ('or', 'CONJ'), ('State', 'NOUN'), ('--', '.'), ('(', '.'), ('in', 'ADP'), ('Latin', 'NOUN'), (',', '.'), ('Civitas', 'NOUN'), (')', '.'), ('which', 'DET'), ('is', 'VERB'), ('but', 'CONJ'), ('an', 'DET'), ('artificial', 'ADJ'), ('man', 'NOUN'), ('.', '.'), (\"''\", '.')]\n",
      "[2, 6, 10, 10, 2, 1, 6, 0, 10, 5, 6, 4, 6, 0, 0, 2, 6, 0, 6, 0, 5, 10, 4, 5, 1, 6, 0, 0]\n",
      "[5, 6, 10, 10, 2, 1, 6, 0, 10, 5, 6, 4, 7, 0, 0, 2, 7, 0, 11, 0, 5, 10, 4, 5, 1, 6, 0, 0]\n",
      "[2, 6, 10, 10, 2, 1, 6, 0, 10, 5, 6, 4, 6, 0, 0, 2, 6, 0, 6, 0, 5, 10, 4, 5, 1, 6, 0, 0]\n",
      "[2, 6, 10, 10, 2, 1, 6, 0, 10, 5, 6, 4, 6, 0, 0, 2, 6, 0, 6, 0, 5, 10, 4, 5, 1, 6, 0, 0]\n"
     ]
    }
   ],
   "source": [
    "idx = 100\n",
    "print(moby[idx])\n",
    "print(g_true[idx])\n",
    "print(g_predict[idx])\n",
    "print(d_true[idx])\n",
    "print(d_predict[idx])"
   ]
  },
  {
   "cell_type": "code",
   "execution_count": 897,
   "metadata": {},
   "outputs": [],
   "source": [
    "import re\n",
    "\n",
    "hyperlink = r\"http\\S*\\s\"\n",
    "trump_words = ' ! '.join(pd.read_json(\"trump.json\", encoding=\"utf8\").text)\n",
    "trump_words = re.sub(hyperlink, \"\", trump_words)\n",
    "\n",
    "trump = list(map(lambda sent: pos_tag(word_tokenize(sent), tagset='universal'),\n",
    "                 sent_tokenize(trump_words)))"
   ]
  },
  {
   "cell_type": "code",
   "execution_count": 901,
   "metadata": {},
   "outputs": [],
   "source": [
    "trump_set = POSDataset(trump, embedder, hmm.tagset)\n",
    "model.cpu()\n",
    "g_true, g_predict = hmm.split_predict(trump)\n",
    "d_true, d_predict = model.split_predict(trump_set)"
   ]
  },
  {
   "cell_type": "code",
   "execution_count": 904,
   "metadata": {},
   "outputs": [
    {
     "name": "stdout",
     "output_type": "stream",
     "text": [
      "[('Tractors', 'NOUN'), ('blocked', 'VERB'), ('doors', 'NOUN'), ('&', 'CONJ'), ('amp', 'NOUN'), (';', '.'), ('windows', 'NOUN'), ('were', 'VERB'), ('covered', 'VERB'), ('with', 'ADP'), ('thick', 'ADJ'), ('cardboard', 'NOUN'), ('so', 'ADP'), ('that', 'DET'), ('observers', 'NOUN'), ('could', 'VERB'), ('not', 'ADV'), ('see', 'VERB'), ('into', 'ADP'), ('the', 'DET'), ('count', 'NOUN'), ('rooms', 'NOUN'), ('.', '.')]\n",
      "[6, 10, 6, 4, 6, 0, 6, 10, 10, 2, 1, 6, 2, 5, 6, 10, 3, 10, 2, 5, 6, 6, 0]\n",
      "[8, 10, 6, 4, 7, 0, 6, 10, 10, 2, 1, 4, 3, 2, 6, 10, 3, 10, 2, 5, 6, 6, 0]\n",
      "[6, 10, 6, 4, 6, 0, 6, 10, 10, 2, 1, 6, 2, 5, 6, 10, 3, 10, 2, 5, 6, 6, 0]\n",
      "[6, 10, 6, 6, 6, 0, 6, 10, 10, 2, 1, 6, 2, 2, 6, 10, 3, 10, 2, 5, 6, 6, 0]\n"
     ]
    }
   ],
   "source": [
    "idx = 300\n",
    "print(trump[idx])\n",
    "print(g_true[idx])\n",
    "print(g_predict[idx])\n",
    "print(d_true[idx])\n",
    "print(d_predict[idx])"
   ]
  },
  {
   "cell_type": "code",
   "execution_count": null,
   "metadata": {},
   "outputs": [],
   "source": []
  }
 ],
 "metadata": {
  "kernelspec": {
   "display_name": "Python 3",
   "language": "python",
   "name": "python3"
  },
  "language_info": {
   "codemirror_mode": {
    "name": "ipython",
    "version": 3
   },
   "file_extension": ".py",
   "mimetype": "text/x-python",
   "name": "python",
   "nbconvert_exporter": "python",
   "pygments_lexer": "ipython3",
   "version": "3.7.4"
  }
 },
 "nbformat": 4,
 "nbformat_minor": 4
}
