{
 "cells": [
  {
   "cell_type": "markdown",
   "metadata": {},
   "source": [
    "# Final Project\n",
    "Quinn Frank <br>\n",
    "November 23, 2020"
   ]
  },
  {
   "cell_type": "code",
   "execution_count": 1,
   "metadata": {},
   "outputs": [
    {
     "name": "stderr",
     "output_type": "stream",
     "text": [
      "[nltk_data] Downloading package tagsets to\n",
      "[nltk_data]     C:\\Users\\Quinn\\AppData\\Roaming\\nltk_data...\n",
      "[nltk_data]   Package tagsets is already up-to-date!\n",
      "[nltk_data] Downloading package brown to\n",
      "[nltk_data]     C:\\Users\\Quinn\\AppData\\Roaming\\nltk_data...\n",
      "[nltk_data]   Package brown is already up-to-date!\n",
      "[nltk_data] Downloading package punkt to\n",
      "[nltk_data]     C:\\Users\\Quinn\\AppData\\Roaming\\nltk_data...\n",
      "[nltk_data]   Package punkt is already up-to-date!\n",
      "[nltk_data] Downloading package averaged_perceptron_tagger to\n",
      "[nltk_data]     C:\\Users\\Quinn\\AppData\\Roaming\\nltk_data...\n",
      "[nltk_data]   Package averaged_perceptron_tagger is already up-to-\n",
      "[nltk_data]       date!\n"
     ]
    }
   ],
   "source": [
    "# Import NLTK to load training data\n",
    "import nltk\n",
    "nltk.download(\"tagsets\")\n",
    "nltk.download(\"brown\")\n",
    "nltk.download(\"punkt\")\n",
    "nltk.download(\"averaged_perceptron_tagger\")\n",
    "# Potentially: http://www.anc.org/software/anc-tool/\n",
    "\n",
    "# Import my modules\n",
    "from hmm import HMM\n",
    "from blstm import *\n",
    "from tagging_results import TaggingResults\n",
    "\n",
    "import numpy as np\n",
    "import pandas as pd\n",
    "import matplotlib.pyplot as plt\n",
    "%matplotlib inline"
   ]
  },
  {
   "cell_type": "code",
   "execution_count": 25,
   "metadata": {},
   "outputs": [],
   "source": [
    "# CAN LOAD PRE-TRAINED MODELS HERE\n",
    "\n",
    "def enpickle(obj, file):\n",
    "    import pickle\n",
    "    with open(file, 'wb') as out_file:\n",
    "        pickle.dump(obj, out_file)\n",
    "\n",
    "def unpickle(file):\n",
    "    import pickle\n",
    "    with open(file, 'rb') as in_file:\n",
    "        pickle_dict = pickle.load(in_file, encoding='bytes')\n",
    "    return pickle_dict\n",
    "\n",
    "#hmm = unpickle(\"models/hmm\")\n",
    "#summ = unpickle(\"models/blstm_train_summ\")\n",
    "#net = torch.load(\"models/blstm\")"
   ]
  },
  {
   "cell_type": "markdown",
   "metadata": {},
   "source": [
    "## Step 2: Generative Model"
   ]
  },
  {
   "cell_type": "code",
   "execution_count": 2,
   "metadata": {},
   "outputs": [],
   "source": [
    "train_size, test_size = 10000, 2000   # actual test set may be < test_size\n",
    "train = nltk.corpus.brown.tagged_sents(tagset=\"universal\")[:train_size]\n",
    "test = nltk.corpus.brown.tagged_sents(tagset=\"universal\")[train_size:train_size+test_size]"
   ]
  },
  {
   "cell_type": "code",
   "execution_count": 3,
   "metadata": {},
   "outputs": [
    {
     "name": "stdout",
     "output_type": "stream",
     "text": [
      "Wall time: 1min 33s\n",
      "Wall time: 3.81 s\n"
     ]
    }
   ],
   "source": [
    "hmm = HMM()\n",
    "%time hmm.fit(train)\n",
    "%time test_sents, y_true, y_predict = hmm.split_predict(test)"
   ]
  },
  {
   "cell_type": "code",
   "execution_count": 4,
   "metadata": {},
   "outputs": [
    {
     "name": "stdout",
     "output_type": "stream",
     "text": [
      "\n",
      "Accuracy\n",
      "--------\n",
      "total               0.9769\n",
      "in vocab            0.9769\n",
      "out of vocab           NaN\n",
      "ambiguous tokens    0.9254\n",
      "dtype: float64\n",
      "\n",
      "Accuracy\n",
      "--------\n",
      "total               0.9188\n",
      "in vocab            0.9647\n",
      "out of vocab        0.2622\n",
      "ambiguous tokens    0.8671\n",
      "dtype: float64\n"
     ]
    }
   ],
   "source": [
    "# Calculate accuracy of HMM on both datasets\n",
    "hmm_train = TaggingResults(hmm, train, hmm.vocab, hmm.tagset)\n",
    "hmm_test = TaggingResults(hmm, test, hmm.vocab, hmm.tagset)\n",
    "\n",
    "hmm_train.get_accuracy()\n",
    "hmm_test.get_accuracy()"
   ]
  },
  {
   "cell_type": "markdown",
   "metadata": {},
   "source": [
    "## Step 3: Discriminative Model"
   ]
  },
  {
   "cell_type": "code",
   "execution_count": 5,
   "metadata": {},
   "outputs": [
    {
     "name": "stdout",
     "output_type": "stream",
     "text": [
      "Wall time: 9.4 s\n"
     ]
    }
   ],
   "source": [
    "untagged_train = nltk.corpus.brown.sents()[:train_size]\n",
    "%time embedder = train_fasttext(untagged_train)\n",
    "\n",
    "# Also store the vocabulary for later\n",
    "net_vocab = pd.Index(sorted(set(sum(untagged_train, []))))"
   ]
  },
  {
   "cell_type": "code",
   "execution_count": 7,
   "metadata": {},
   "outputs": [],
   "source": [
    "train_set = POSDataset(train, embedder, hmm.tagset)\n",
    "test_set = POSDataset(test, embedder, hmm.tagset)\n",
    "\n",
    "# Network is loaded onto a GPU by default\n",
    "# (to run on cpu, remove .cuda() and set use_cuda below to False)\n",
    "net = BLSTM(100, len(hmm.tagset), 128, 2, 0.2)"
   ]
  },
  {
   "cell_type": "code",
   "execution_count": 18,
   "metadata": {},
   "outputs": [
    {
     "name": "stdout",
     "output_type": "stream",
     "text": [
      "- EPOCH 5:\n",
      "  train loss = 0.7001168727874756\n",
      "  accuracy   = 0.8426 (train) / 0.8323 (test)\n",
      "----------------------------\n",
      "- EPOCH 10:\n",
      "  train loss = 0.7223856449127197\n",
      "  accuracy   = 0.8465 (train) / 0.8353 (test)\n",
      "----------------------------\n",
      "- EPOCH 15:\n",
      "  train loss = 0.7266753315925598\n",
      "  accuracy   = 0.8482 (train) / 0.8385 (test)\n",
      "----------------------------\n",
      "- EPOCH 20:\n",
      "  train loss = 0.7150929570198059\n",
      "  accuracy   = 0.8521 (train) / 0.8399 (test)\n",
      "----------------------------\n",
      "- EPOCH 25:\n",
      "  train loss = 0.6909984946250916\n",
      "  accuracy   = 0.8546 (train) / 0.8429 (test)\n",
      "----------------------------\n",
      "- EPOCH 30:\n",
      "  train loss = 0.6948869824409485\n",
      "  accuracy   = 0.8561 (train) / 0.8451 (test)\n",
      "----------------------------\n",
      "- EPOCH 35:\n",
      "  train loss = 0.6797302961349487\n",
      "  accuracy   = 0.8594 (train) / 0.8476 (test)\n",
      "----------------------------\n",
      "- EPOCH 40:\n",
      "  train loss = 0.6707044839859009\n",
      "  accuracy   = 0.8605 (train) / 0.8474 (test)\n",
      "----------------------------\n",
      "Wall time: 7min 24s\n"
     ]
    }
   ],
   "source": [
    "net.cuda()\n",
    "%time summ = train_BLSTM(net, train_set, test_set, \\\n",
    "                         num_epochs=40, batch_size=16, use_cuda=True, \\\n",
    "                         print_every=5, train_summ=summ)"
   ]
  },
  {
   "cell_type": "code",
   "execution_count": 19,
   "metadata": {},
   "outputs": [
    {
     "data": {
      "image/png": "[encoded data removed]",
      "text/plain": [
       "<Figure size 720x360 with 1 Axes>"
      ]
     },
     "metadata": {
      "needs_background": "light"
     },
     "output_type": "display_data"
    },
    {
     "data": {
      "image/png": "[encoded data removed]",
      "text/plain": [
       "<Figure size 720x360 with 1 Axes>"
      ]
     },
     "metadata": {
      "needs_background": "light"
     },
     "output_type": "display_data"
    },
    {
     "name": "stdout",
     "output_type": "stream",
     "text": [
      "\n",
      "Accuracy\n",
      "--------\n",
      "total               0.8590\n",
      "in vocab            0.8590\n",
      "out of vocab           NaN\n",
      "ambiguous tokens    0.8441\n",
      "dtype: float64\n",
      "\n",
      "Accuracy\n",
      "--------\n",
      "total               0.8436\n",
      "in vocab            0.8536\n",
      "out of vocab        0.7247\n",
      "ambiguous tokens    0.7698\n",
      "dtype: float64\n"
     ]
    }
   ],
   "source": [
    "net.cpu()\n",
    "plot_train_summ(summ)\n",
    "\n",
    "# Calculate accuracy of BiLSTM on both datasets\n",
    "net_train = TaggingResults(net, train, net_vocab, hmm.tagset, embedder)\n",
    "net_test = TaggingResults(net, test, net_vocab, hmm.tagset, embedder)\n",
    "\n",
    "net_train.get_accuracy()\n",
    "net_test.get_accuracy()"
   ]
  },
  {
   "cell_type": "code",
   "execution_count": 23,
   "metadata": {},
   "outputs": [],
   "source": [
    "# STORE MODELS HERE ONCE TRAINED\n",
    "\n",
    "def enpickle(obj, file):\n",
    "    import pickle\n",
    "    with open(file, 'wb') as out_file:\n",
    "        pickle.dump(obj, out_file)\n",
    "\n",
    "def unpickle(file):\n",
    "    import pickle\n",
    "    with open(file, 'rb') as in_file:\n",
    "        pickle_dict = pickle.load(in_file, encoding='bytes')\n",
    "    return pickle_dict\n",
    "\n",
    "enpickle(hmm, \"models/hmm\")\n",
    "enpickle(summ, \"models/blstm_train_summ\")\n",
    "torch.save(net, \"models/blstm\")"
   ]
  },
  {
   "cell_type": "markdown",
   "metadata": {},
   "source": [
    "# Step 4: Application to Artificial Data"
   ]
  },
  {
   "cell_type": "code",
   "execution_count": 32,
   "metadata": {},
   "outputs": [
    {
     "name": "stdout",
     "output_type": "stream",
     "text": [
      "Wall time: 12.8 s\n"
     ]
    }
   ],
   "source": [
    "# Generate an artificial tagged dataset to test on\n",
    "%time artificial = hmm.generate(1000)"
   ]
  },
  {
   "cell_type": "code",
   "execution_count": 33,
   "metadata": {},
   "outputs": [
    {
     "name": "stdout",
     "output_type": "stream",
     "text": [
      "\n",
      "Accuracy\n",
      "--------\n",
      "total               0.9783\n",
      "in vocab            0.9783\n",
      "out of vocab           NaN\n",
      "ambiguous tokens    0.8940\n",
      "dtype: float64\n",
      "\n",
      "Accuracy\n",
      "--------\n",
      "total               0.7811\n",
      "in vocab            0.7835\n",
      "out of vocab        0.7522\n",
      "ambiguous tokens    0.7007\n",
      "dtype: float64\n"
     ]
    }
   ],
   "source": [
    "hmm_art = TaggingResults(hmm, artificial, hmm.vocab, hmm.tagset)\n",
    "net_art = TaggingResults(net, artificial, net_vocab, hmm.tagset, embedder)\n",
    "\n",
    "hmm_art.get_accuracy()\n",
    "net_art.get_accuracy()"
   ]
  },
  {
   "cell_type": "code",
   "execution_count": 43,
   "metadata": {},
   "outputs": [
    {
     "name": "stdout",
     "output_type": "stream",
     "text": [
      "             true predict correct? oov? ambiguous?\n",
      "token                                             \n",
      "Then          ADV     ADV        ✓                \n",
      ",               .       .        ✓                \n",
      "if            ADP     ADP        ✓                \n",
      "the           DET     DET        ✓                \n",
      "middle        ADJ    NOUN                         \n",
      "number       NOUN    NOUN        ✓                \n",
      "is           VERB    VERB        ✓                \n",
      "activated    VERB    VERB        ✓    *           \n",
      "to            ADP     ADP        ✓               *\n",
      "its           DET     DET        ✓                \n",
      "greatest      ADJ     ADJ        ✓                \n",
      "potential    NOUN    NOUN        ✓               *\n",
      "in            ADP     ADP        ✓               *\n",
      "terms        NOUN    NOUN        ✓                \n",
      "of            ADP     ADP        ✓                \n",
      "this          DET     DET        ✓                \n",
      "square       NOUN    NOUN        ✓               *\n",
      ",               .       .        ✓                \n",
      "through       ADP     ADV                        *\n",
      "multiplying  VERB    VERB        ✓                \n",
      "it           PRON    PRON        ✓                \n",
      "by            ADP     ADP        ✓               *\n",
      "the           DET     DET        ✓                \n",
      "highest       ADJ     ADJ        ✓                \n",
      "number       NOUN    NOUN        ✓                \n",
      ",               .       .        ✓                \n",
      "9             NUM     NUM        ✓                \n",
      "(               .       .        ✓                \n",
      "which         DET     DET        ✓                \n",
      "is           VERB    VERB        ✓                \n",
      "the           DET     DET        ✓                \n",
      "square       NOUN    NOUN        ✓               *\n",
      "of            ADP     ADP        ✓                \n",
      "the           DET     DET        ✓                \n",
      "base         NOUN     ADJ                         \n",
      "number       NOUN    NOUN        ✓                \n",
      ")               .       .        ✓                \n",
      ",               .       .        ✓                \n",
      "the           DET     DET        ✓                \n",
      "result       NOUN    NOUN        ✓               *\n",
      "is           VERB    VERB        ✓                \n",
      "45            NUM    NOUN                         \n",
      ";               .       .        ✓                \n",
      ";               .       .        ✓                \n"
     ]
    }
   ],
   "source": [
    "net_test.get_sent(4)"
   ]
  },
  {
   "cell_type": "markdown",
   "metadata": {},
   "source": [
    "# Step 5: Application to Real Data"
   ]
  },
  {
   "cell_type": "code",
   "execution_count": 833,
   "metadata": {},
   "outputs": [],
   "source": [
    "from nltk.tag import pos_tag\n",
    "from nltk.tokenize import sent_tokenize, word_tokenize"
   ]
  },
  {
   "cell_type": "code",
   "execution_count": 844,
   "metadata": {},
   "outputs": [
    {
     "data": {
      "text/plain": [
       "[('Hooray', 'NOUN'),\n",
       " ('for', 'ADP'),\n",
       " ('#', '.'),\n",
       " ('sentences', 'NOUN'),\n",
       " ('...', '.')]"
      ]
     },
     "execution_count": 844,
     "metadata": {},
     "output_type": "execute_result"
    }
   ],
   "source": [
    "string = \"I'm not making a sentence!  Hooray for #sentences...\"\n",
    "pos_tag(word_tokenize(sent_tokenize(string)[1]), tagset=\"universal\")"
   ]
  },
  {
   "cell_type": "code",
   "execution_count": 879,
   "metadata": {},
   "outputs": [],
   "source": [
    "moby_words = nltk.corpus.gutenberg.words(\"melville-moby_dick.txt\")\n",
    "moby = list(map(lambda sent: pos_tag(word_tokenize(sent), tagset='universal'),\n",
    "                sent_tokenize(' '.join(moby_words))))"
   ]
  },
  {
   "cell_type": "code",
   "execution_count": 880,
   "metadata": {},
   "outputs": [],
   "source": [
    "moby_set = POSDataset(moby[:1000], embedder, hmm.tagset)\n",
    "model.cpu()\n",
    "g_true, g_predict = hmm.split_predict(moby[:1000])\n",
    "d_true, d_predict = model.split_predict(moby_set)"
   ]
  },
  {
   "cell_type": "code",
   "execution_count": 884,
   "metadata": {},
   "outputs": [
    {
     "name": "stdout",
     "output_type": "stream",
     "text": [
      "[('By', 'ADP'), ('art', 'NOUN'), ('is', 'VERB'), ('created', 'VERB'), ('that', 'ADP'), ('great', 'ADJ'), ('Leviathan', 'NOUN'), (',', '.'), ('called', 'VERB'), ('a', 'DET'), ('Commonwealth', 'NOUN'), ('or', 'CONJ'), ('State', 'NOUN'), ('--', '.'), ('(', '.'), ('in', 'ADP'), ('Latin', 'NOUN'), (',', '.'), ('Civitas', 'NOUN'), (')', '.'), ('which', 'DET'), ('is', 'VERB'), ('but', 'CONJ'), ('an', 'DET'), ('artificial', 'ADJ'), ('man', 'NOUN'), ('.', '.'), (\"''\", '.')]\n",
      "[2, 6, 10, 10, 2, 1, 6, 0, 10, 5, 6, 4, 6, 0, 0, 2, 6, 0, 6, 0, 5, 10, 4, 5, 1, 6, 0, 0]\n",
      "[5, 6, 10, 10, 2, 1, 6, 0, 10, 5, 6, 4, 7, 0, 0, 2, 7, 0, 11, 0, 5, 10, 4, 5, 1, 6, 0, 0]\n",
      "[2, 6, 10, 10, 2, 1, 6, 0, 10, 5, 6, 4, 6, 0, 0, 2, 6, 0, 6, 0, 5, 10, 4, 5, 1, 6, 0, 0]\n",
      "[2, 6, 10, 10, 2, 1, 6, 0, 10, 5, 6, 4, 6, 0, 0, 2, 6, 0, 6, 0, 5, 10, 4, 5, 1, 6, 0, 0]\n"
     ]
    }
   ],
   "source": [
    "idx = 100\n",
    "print(moby[idx])\n",
    "print(g_true[idx])\n",
    "print(g_predict[idx])\n",
    "print(d_true[idx])\n",
    "print(d_predict[idx])"
   ]
  },
  {
   "cell_type": "code",
   "execution_count": 897,
   "metadata": {},
   "outputs": [],
   "source": [
    "import re\n",
    "\n",
    "hyperlink = r\"http\\S*\\s\"\n",
    "trump_words = ' ! '.join(pd.read_json(\"trump.json\", encoding=\"utf8\").text)\n",
    "trump_words = re.sub(hyperlink, \"\", trump_words)\n",
    "\n",
    "trump = list(map(lambda sent: pos_tag(word_tokenize(sent), tagset='universal'),\n",
    "                 sent_tokenize(trump_words)))"
   ]
  },
  {
   "cell_type": "code",
   "execution_count": 901,
   "metadata": {},
   "outputs": [],
   "source": [
    "trump_set = POSDataset(trump, embedder, hmm.tagset)\n",
    "model.cpu()\n",
    "g_true, g_predict = hmm.split_predict(trump)\n",
    "d_true, d_predict = model.split_predict(trump_set)"
   ]
  },
  {
   "cell_type": "code",
   "execution_count": 904,
   "metadata": {},
   "outputs": [
    {
     "name": "stdout",
     "output_type": "stream",
     "text": [
      "[('Tractors', 'NOUN'), ('blocked', 'VERB'), ('doors', 'NOUN'), ('&', 'CONJ'), ('amp', 'NOUN'), (';', '.'), ('windows', 'NOUN'), ('were', 'VERB'), ('covered', 'VERB'), ('with', 'ADP'), ('thick', 'ADJ'), ('cardboard', 'NOUN'), ('so', 'ADP'), ('that', 'DET'), ('observers', 'NOUN'), ('could', 'VERB'), ('not', 'ADV'), ('see', 'VERB'), ('into', 'ADP'), ('the', 'DET'), ('count', 'NOUN'), ('rooms', 'NOUN'), ('.', '.')]\n",
      "[6, 10, 6, 4, 6, 0, 6, 10, 10, 2, 1, 6, 2, 5, 6, 10, 3, 10, 2, 5, 6, 6, 0]\n",
      "[8, 10, 6, 4, 7, 0, 6, 10, 10, 2, 1, 4, 3, 2, 6, 10, 3, 10, 2, 5, 6, 6, 0]\n",
      "[6, 10, 6, 4, 6, 0, 6, 10, 10, 2, 1, 6, 2, 5, 6, 10, 3, 10, 2, 5, 6, 6, 0]\n",
      "[6, 10, 6, 6, 6, 0, 6, 10, 10, 2, 1, 6, 2, 2, 6, 10, 3, 10, 2, 5, 6, 6, 0]\n"
     ]
    }
   ],
   "source": [
    "idx = 300\n",
    "print(trump[idx])\n",
    "print(g_true[idx])\n",
    "print(g_predict[idx])\n",
    "print(d_true[idx])\n",
    "print(d_predict[idx])"
   ]
  },
  {
   "cell_type": "code",
   "execution_count": null,
   "metadata": {},
   "outputs": [],
   "source": []
  }
 ],
 "metadata": {
  "kernelspec": {
   "display_name": "Python 3",
   "language": "python",
   "name": "python3"
  },
  "language_info": {
   "codemirror_mode": {
    "name": "ipython",
    "version": 3
   },
   "file_extension": ".py",
   "mimetype": "text/x-python",
   "name": "python",
   "nbconvert_exporter": "python",
   "pygments_lexer": "ipython3",
   "version": "3.7.4"
  }
 },
 "nbformat": 4,
 "nbformat_minor": 4
}
