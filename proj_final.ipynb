{
 "cells": [
  {
   "cell_type": "markdown",
   "metadata": {},
   "source": [
    "# Final Project\n",
    "Quinn Frank <br>\n",
    "November 23, 2020"
   ]
  },
  {
   "cell_type": "code",
   "execution_count": 1,
   "metadata": {},
   "outputs": [
    {
     "name": "stderr",
     "output_type": "stream",
     "text": [
      "[nltk_data] Downloading package tagsets to\n",
      "[nltk_data]     C:\\Users\\Quinn\\AppData\\Roaming\\nltk_data...\n",
      "[nltk_data]   Package tagsets is already up-to-date!\n",
      "[nltk_data] Downloading package brown to\n",
      "[nltk_data]     C:\\Users\\Quinn\\AppData\\Roaming\\nltk_data...\n",
      "[nltk_data]   Package brown is already up-to-date!\n",
      "[nltk_data] Downloading package punkt to\n",
      "[nltk_data]     C:\\Users\\Quinn\\AppData\\Roaming\\nltk_data...\n",
      "[nltk_data]   Package punkt is already up-to-date!\n",
      "[nltk_data] Downloading package averaged_perceptron_tagger to\n",
      "[nltk_data]     C:\\Users\\Quinn\\AppData\\Roaming\\nltk_data...\n",
      "[nltk_data]   Package averaged_perceptron_tagger is already up-to-\n",
      "[nltk_data]       date!\n"
     ]
    }
   ],
   "source": [
    "# Import NLTK to load training data\n",
    "import nltk\n",
    "nltk.download(\"tagsets\")\n",
    "nltk.download(\"brown\")\n",
    "nltk.download(\"punkt\")\n",
    "nltk.download(\"averaged_perceptron_tagger\")\n",
    "# Potentially: http://www.anc.org/software/anc-tool/\n",
    "\n",
    "# Import my modules\n",
    "from hmm import HMM\n",
    "from blstm import *\n",
    "from tagging_results import TaggingResults\n",
    "\n",
    "import numpy as np\n",
    "import pandas as pd\n",
    "import matplotlib.pyplot as plt\n",
    "%matplotlib inline"
   ]
  },
  {
   "cell_type": "code",
   "execution_count": 2,
   "metadata": {},
   "outputs": [],
   "source": [
    "# CAN LOAD PRE-TRAINED MODELS HERE\n",
    "\n",
    "def enpickle(obj, file):\n",
    "    import pickle\n",
    "    with open(file, 'wb') as out_file:\n",
    "        pickle.dump(obj, out_file)\n",
    "\n",
    "def unpickle(file):\n",
    "    import pickle\n",
    "    with open(file, 'rb') as in_file:\n",
    "        pickle_dict = pickle.load(in_file, encoding='bytes')\n",
    "    return pickle_dict\n",
    "\n",
    "#hmm = unpickle(\"models/hmm\")\n",
    "#summ = unpickle(\"models/blstm_train_summ\")\n",
    "#net = torch.load(\"models/blstm\")"
   ]
  },
  {
   "cell_type": "markdown",
   "metadata": {},
   "source": [
    "## Step 2: Generative Model"
   ]
  },
  {
   "cell_type": "code",
   "execution_count": 3,
   "metadata": {},
   "outputs": [],
   "source": [
    "train_size, test_size = 10000, 2000   # actual test set may be < test_size\n",
    "train = nltk.corpus.brown.tagged_sents(tagset=\"universal\")[:train_size]\n",
    "test = nltk.corpus.brown.tagged_sents(tagset=\"universal\")[train_size:train_size+test_size]"
   ]
  },
  {
   "cell_type": "code",
   "execution_count": 4,
   "metadata": {},
   "outputs": [
    {
     "name": "stdout",
     "output_type": "stream",
     "text": [
      "Wall time: 1min 35s\n",
      "Wall time: 3.76 s\n"
     ]
    }
   ],
   "source": [
    "hmm = HMM()\n",
    "%time hmm.fit(train)\n",
    "%time test_sents, y_true, y_predict = hmm.split_predict(test)    # time this"
   ]
  },
  {
   "cell_type": "code",
   "execution_count": 5,
   "metadata": {},
   "outputs": [
    {
     "name": "stdout",
     "output_type": "stream",
     "text": [
      "\n",
      "Accuracy\n",
      "--------\n",
      "total               0.9769\n",
      "in vocab            0.9769\n",
      "out of vocab           NaN\n",
      "ambiguous tokens    0.9254\n",
      "dtype: float64\n",
      "\n",
      "Accuracy\n",
      "--------\n",
      "total               0.9188\n",
      "in vocab            0.9647\n",
      "out of vocab        0.2622\n",
      "ambiguous tokens    0.8671\n",
      "dtype: float64\n"
     ]
    }
   ],
   "source": [
    "# Calculate accuracy of HMM on both datasets\n",
    "hmm_train = TaggingResults(hmm, train, hmm.vocab, hmm.tagset)\n",
    "hmm_test = TaggingResults(hmm, test, hmm.vocab, hmm.tagset)\n",
    "\n",
    "hmm_train.get_accuracy()\n",
    "hmm_test.get_accuracy()"
   ]
  },
  {
   "cell_type": "markdown",
   "metadata": {},
   "source": [
    "## Step 3: Discriminative Model"
   ]
  },
  {
   "cell_type": "code",
   "execution_count": 6,
   "metadata": {},
   "outputs": [
    {
     "name": "stdout",
     "output_type": "stream",
     "text": [
      "Wall time: 9.33 s\n"
     ]
    }
   ],
   "source": [
    "untagged_train = nltk.corpus.brown.sents()[:train_size]\n",
    "%time embedder = train_fasttext(untagged_train)\n",
    "\n",
    "# Also store the vocabulary for later\n",
    "net_vocab = pd.Index(sorted(set(sum(untagged_train, []))))"
   ]
  },
  {
   "cell_type": "code",
   "execution_count": 7,
   "metadata": {},
   "outputs": [],
   "source": [
    "train_set = POSDataset(train, embedder, hmm.tagset)\n",
    "test_set = POSDataset(test, embedder, hmm.tagset)\n",
    "\n",
    "# Network is loaded onto a GPU by default\n",
    "# (to run on cpu, remove .cuda() and set use_cuda below to False)\n",
    "net = BLSTM(100, len(hmm.tagset), 128, 2, 0.2)"
   ]
  },
  {
   "cell_type": "code",
   "execution_count": 11,
   "metadata": {},
   "outputs": [
    {
     "name": "stdout",
     "output_type": "stream",
     "text": [
      "- EPOCH 5:\n",
      "  train loss = 0.5759339928627014\n",
      "  accuracy   = 0.9202 (train) / 0.8831 (test)\n",
      "----------------------------\n",
      "- EPOCH 10:\n",
      "  train loss = 0.5776965618133545\n",
      "  accuracy   = 0.9253 (train) / 0.8835 (test)\n",
      "----------------------------\n",
      "- EPOCH 15:\n",
      "  train loss = 0.5136995911598206\n",
      "  accuracy   = 0.9324 (train) / 0.8835 (test)\n",
      "----------------------------\n",
      "- EPOCH 20:\n",
      "  train loss = 0.561957836151123\n",
      "  accuracy   = 0.9371 (train) / 0.883 (test)\n",
      "----------------------------\n",
      "- EPOCH 25:\n",
      "  train loss = 0.5960726737976074\n",
      "  accuracy   = 0.9383 (train) / 0.8795 (test)\n",
      "----------------------------\n",
      "- EPOCH 30:\n",
      "  train loss = 0.5420691967010498\n",
      "  accuracy   = 0.9445 (train) / 0.8779 (test)\n",
      "----------------------------\n",
      "- EPOCH 35:\n",
      "  train loss = 0.5644589066505432\n",
      "  accuracy   = 0.9472 (train) / 0.8785 (test)\n",
      "----------------------------\n",
      "- EPOCH 40:\n",
      "  train loss = 0.5258644223213196\n",
      "  accuracy   = 0.9503 (train) / 0.8773 (test)\n",
      "----------------------------\n",
      "Wall time: 7min 22s\n"
     ]
    }
   ],
   "source": [
    "net.cuda()\n",
    "%time summ = train_BLSTM(net, train_set, test_set, \\\n",
    "                         num_epochs=40, batch_size=16, use_cuda=True, \\\n",
    "                         print_every=5, train_summ=summ, \\\n",
    "                         opt_params={'lr': 0.1, 'momentum': 0.9})"
   ]
  },
  {
   "cell_type": "code",
   "execution_count": 12,
   "metadata": {},
   "outputs": [
    {
     "name": "stdout",
     "output_type": "stream",
     "text": [
      "Wall time: 1.76 s\n"
     ]
    },
    {
     "data": {
      "image/png": "[encoded data removed]",
      "text/plain": [
       "<Figure size 720x360 with 1 Axes>"
      ]
     },
     "metadata": {
      "needs_background": "light"
     },
     "output_type": "display_data"
    },
    {
     "data": {
      "image/png": "[encoded data removed]",
      "text/plain": [
       "<Figure size 720x360 with 1 Axes>"
      ]
     },
     "metadata": {
      "needs_background": "light"
     },
     "output_type": "display_data"
    },
    {
     "name": "stdout",
     "output_type": "stream",
     "text": [
      "\n",
      "Accuracy\n",
      "--------\n",
      "total               0.9417\n",
      "in vocab            0.9417\n",
      "out of vocab           NaN\n",
      "ambiguous tokens    0.9424\n",
      "dtype: float64\n",
      "\n",
      "Accuracy\n",
      "--------\n",
      "total               0.8728\n",
      "in vocab            0.8850\n",
      "out of vocab        0.7269\n",
      "ambiguous tokens    0.8272\n",
      "dtype: float64\n"
     ]
    }
   ],
   "source": [
    "net.cpu()\n",
    "%time test_sents, y_true, y_predict = net.split_predict(test_set)   # time this\n",
    "plot_train_summ(summ)\n",
    "\n",
    "# Calculate accuracy of BiLSTM on both datasets\n",
    "net_train = TaggingResults(net, train, net_vocab, hmm.tagset, embedder)\n",
    "net_test = TaggingResults(net, test, net_vocab, hmm.tagset, embedder)\n",
    "\n",
    "net_train.get_accuracy()\n",
    "net_test.get_accuracy()"
   ]
  },
  {
   "cell_type": "code",
   "execution_count": 21,
   "metadata": {},
   "outputs": [],
   "source": [
    "# STORE MODELS HERE ONCE TRAINED\n",
    "\n",
    "def enpickle(obj, file):\n",
    "    import pickle\n",
    "    with open(file, 'wb') as out_file:\n",
    "        pickle.dump(obj, out_file)\n",
    "\n",
    "def unpickle(file):\n",
    "    import pickle\n",
    "    with open(file, 'rb') as in_file:\n",
    "        pickle_dict = pickle.load(in_file, encoding='bytes')\n",
    "    return pickle_dict\n",
    "\n",
    "enpickle(hmm, \"models/hmm\")\n",
    "enpickle(summ, \"models/blstm_train_summ\")\n",
    "torch.save(net, \"models/blstm\")"
   ]
  },
  {
   "cell_type": "markdown",
   "metadata": {},
   "source": [
    "# Step 4: Application to Artificial Data"
   ]
  },
  {
   "cell_type": "code",
   "execution_count": 13,
   "metadata": {},
   "outputs": [
    {
     "name": "stdout",
     "output_type": "stream",
     "text": [
      "Wall time: 11.8 s\n"
     ]
    }
   ],
   "source": [
    "# Generate an artificial tagged dataset to test on\n",
    "%time artificial = hmm.generate(1000)"
   ]
  },
  {
   "cell_type": "code",
   "execution_count": 14,
   "metadata": {},
   "outputs": [
    {
     "name": "stdout",
     "output_type": "stream",
     "text": [
      "\n",
      "Accuracy\n",
      "--------\n",
      "total               0.9793\n",
      "in vocab            0.9793\n",
      "out of vocab           NaN\n",
      "ambiguous tokens    0.9038\n",
      "dtype: float64\n",
      "\n",
      "Accuracy\n",
      "--------\n",
      "total               0.7824\n",
      "in vocab            0.7891\n",
      "out of vocab        0.7013\n",
      "ambiguous tokens    0.7206\n",
      "dtype: float64\n"
     ]
    }
   ],
   "source": [
    "# Calculate the accuracy on the artifical dataset\n",
    "hmm_art = TaggingResults(hmm, artificial, hmm.vocab, hmm.tagset)\n",
    "net_art = TaggingResults(net, artificial, net_vocab, hmm.tagset, embedder)\n",
    "\n",
    "hmm_art.get_accuracy()\n",
    "net_art.get_accuracy()"
   ]
  },
  {
   "cell_type": "code",
   "execution_count": 20,
   "metadata": {},
   "outputs": [
    {
     "name": "stdout",
     "output_type": "stream",
     "text": [
      "           true predict correct? oov? ambiguous?\n",
      "token                                           \n",
      "means      NOUN    NOUN        ✓               *\n",
      "keyed      VERB    VERB        ✓                \n",
      "be         VERB    VERB        ✓                \n",
      "much        ADJ     ADV                        *\n",
      "moore      NOUN     ADV             *           \n",
      "as          ADP     ADP        ✓               *\n",
      "witty       ADJ    NOUN                         \n",
      "on          ADP     ADP        ✓               *\n",
      "direction  NOUN    NOUN        ✓                \n",
      "except      ADP    NOUN                         \n",
      "army       NOUN    NOUN        ✓                \n",
      "is         VERB    VERB        ✓                \n",
      "family     NOUN    VERB                         \n",
      "``            .       .        ✓                \n",
      "the         DET     DET        ✓                \n",
      "acres      NOUN    NOUN        ✓                \n",
      "also        ADV     ADV        ✓                \n",
      "is         VERB    VERB        ✓                \n",
      "had        VERB    VERB        ✓                \n",
      "from        ADP     ADP        ✓                \n",
      "also        ADV     ADV        ✓                \n",
      "is         VERB    VERB        ✓                \n",
      "of          ADP     ADP        ✓                \n",
      "or         CONJ    CONJ        ✓                \n",
      "work       NOUN     ADJ                        *\n",
      "or         CONJ    CONJ        ✓                \n",
      "county     NOUN    NOUN        ✓                \n",
      "most        ADV    NOUN                        *\n",
      "to          ADP     ADP        ✓               *\n",
      "cessation  NOUN    NOUN        ✓                \n",
      "toward      ADP    VERB                         \n",
      "the         DET     DET        ✓                \n",
      "day        NOUN    NOUN        ✓                \n",
      ".             .       .        ✓                \n"
     ]
    }
   ],
   "source": [
    "net_art.get_sent(5)"
   ]
  },
  {
   "cell_type": "markdown",
   "metadata": {},
   "source": [
    "# Step 5: Application to Real Data"
   ]
  },
  {
   "cell_type": "markdown",
   "metadata": {},
   "source": [
    "### Moby-Dick"
   ]
  },
  {
   "cell_type": "code",
   "execution_count": 22,
   "metadata": {},
   "outputs": [],
   "source": [
    "from nltk.tag import pos_tag\n",
    "from nltk.tokenize import sent_tokenize, word_tokenize"
   ]
  },
  {
   "cell_type": "code",
   "execution_count": 23,
   "metadata": {},
   "outputs": [],
   "source": [
    "# Let NLTK annotate (tokenize and tag)\n",
    "moby_words = nltk.corpus.gutenberg.words(\"melville-moby_dick.txt\")\n",
    "moby = list(map(lambda sent: pos_tag(word_tokenize(sent), tagset='universal'),\n",
    "                sent_tokenize(' '.join(moby_words))))"
   ]
  },
  {
   "cell_type": "code",
   "execution_count": 24,
   "metadata": {},
   "outputs": [
    {
     "name": "stdout",
     "output_type": "stream",
     "text": [
      "\n",
      "Accuracy\n",
      "--------\n",
      "total               0.8038\n",
      "in vocab            0.8743\n",
      "out of vocab        0.2800\n",
      "ambiguous tokens    0.7766\n",
      "dtype: float64\n",
      "\n",
      "Accuracy\n",
      "--------\n",
      "total               0.7927\n",
      "in vocab            0.8160\n",
      "out of vocab        0.6475\n",
      "ambiguous tokens    0.6117\n",
      "dtype: float64\n"
     ]
    }
   ],
   "source": [
    "# Calculate the accuracy on Moby-Dick\n",
    "hmm_moby = TaggingResults(hmm, moby, hmm.vocab, hmm.tagset)\n",
    "net_moby = TaggingResults(net, moby, net_vocab, hmm.tagset, embedder)\n",
    "\n",
    "hmm_moby.get_accuracy()\n",
    "net_moby.get_accuracy()"
   ]
  },
  {
   "cell_type": "code",
   "execution_count": 30,
   "metadata": {},
   "outputs": [
    {
     "name": "stdout",
     "output_type": "stream",
     "text": [
      "           true predict correct? oov? ambiguous?\n",
      "token                                           \n",
      "So          ADV     ADV        ✓               *\n",
      ",             .       .        ✓                \n",
      "floating   VERB    VERB        ✓               *\n",
      "on          ADP     ADP        ✓                \n",
      "the         DET     DET        ✓                \n",
      "margin     NOUN    NOUN        ✓                \n",
      "of          ADP     ADP        ✓                \n",
      "the         DET     DET        ✓                \n",
      "ensuing    VERB    VERB        ✓               *\n",
      "scene      NOUN    NOUN        ✓                \n",
      ",             .       .        ✓                \n",
      "and        CONJ    CONJ        ✓                \n",
      "in          ADP     ADP        ✓                \n",
      "full        ADJ     ADJ        ✓                \n",
      "sight      NOUN    NOUN        ✓               *\n",
      "of          ADP     ADP        ✓                \n",
      "it         PRON    PRON        ✓                \n",
      ",             .       .        ✓                \n",
      "when        ADV     ADV        ✓                \n",
      "the         DET     DET        ✓                \n",
      "halfspent  NOUN     ADJ             *           \n",
      "suction    NOUN    NOUN        ✓    *           \n",
      "of          ADP     ADP        ✓                \n",
      "the         DET     DET        ✓                \n",
      "sunk       NOUN     ADJ             *          *\n",
      "ship       NOUN    NOUN        ✓               *\n",
      "reached    VERB    VERB        ✓                \n",
      "me         PRON    PRON        ✓                \n",
      ",             .       .        ✓                \n",
      "I          PRON    PRON        ✓                \n",
      "was        VERB    VERB        ✓                \n",
      "then        ADV     ADV        ✓                \n",
      ",             .       .        ✓                \n",
      "but        CONJ    CONJ        ✓                \n",
      "slowly      ADV     ADJ                        *\n",
      ",             .       .        ✓                \n",
      "drawn      NOUN    VERB                        *\n",
      "towards     ADP    VERB                        *\n",
      "the         DET     DET        ✓                \n",
      "closing    NOUN    VERB                         \n",
      "vortex     NOUN    NOUN        ✓    *           \n",
      ".             .       .        ✓                \n"
     ]
    }
   ],
   "source": [
    "net_moby.get_sent(10000)"
   ]
  },
  {
   "cell_type": "markdown",
   "metadata": {},
   "source": [
    "### Trump Tweets"
   ]
  },
  {
   "cell_type": "code",
   "execution_count": 897,
   "metadata": {},
   "outputs": [],
   "source": [
    "import re\n",
    "\n",
    "hyperlink = r\"http\\S*\\s\"\n",
    "trump_words = ' ! '.join(pd.read_json(\"trump.json\", encoding=\"utf8\").text)\n",
    "trump_words = re.sub(hyperlink, \"\", trump_words)\n",
    "\n",
    "trump = list(map(lambda sent: pos_tag(word_tokenize(sent), tagset='universal'),\n",
    "                 sent_tokenize(trump_words)))"
   ]
  },
  {
   "cell_type": "code",
   "execution_count": 901,
   "metadata": {},
   "outputs": [],
   "source": [
    "trump_set = POSDataset(trump, embedder, hmm.tagset)\n",
    "model.cpu()\n",
    "g_true, g_predict = hmm.split_predict(trump)\n",
    "d_true, d_predict = model.split_predict(trump_set)"
   ]
  },
  {
   "cell_type": "code",
   "execution_count": 904,
   "metadata": {},
   "outputs": [
    {
     "name": "stdout",
     "output_type": "stream",
     "text": [
      "[('Tractors', 'NOUN'), ('blocked', 'VERB'), ('doors', 'NOUN'), ('&', 'CONJ'), ('amp', 'NOUN'), (';', '.'), ('windows', 'NOUN'), ('were', 'VERB'), ('covered', 'VERB'), ('with', 'ADP'), ('thick', 'ADJ'), ('cardboard', 'NOUN'), ('so', 'ADP'), ('that', 'DET'), ('observers', 'NOUN'), ('could', 'VERB'), ('not', 'ADV'), ('see', 'VERB'), ('into', 'ADP'), ('the', 'DET'), ('count', 'NOUN'), ('rooms', 'NOUN'), ('.', '.')]\n",
      "[6, 10, 6, 4, 6, 0, 6, 10, 10, 2, 1, 6, 2, 5, 6, 10, 3, 10, 2, 5, 6, 6, 0]\n",
      "[8, 10, 6, 4, 7, 0, 6, 10, 10, 2, 1, 4, 3, 2, 6, 10, 3, 10, 2, 5, 6, 6, 0]\n",
      "[6, 10, 6, 4, 6, 0, 6, 10, 10, 2, 1, 6, 2, 5, 6, 10, 3, 10, 2, 5, 6, 6, 0]\n",
      "[6, 10, 6, 6, 6, 0, 6, 10, 10, 2, 1, 6, 2, 2, 6, 10, 3, 10, 2, 5, 6, 6, 0]\n"
     ]
    }
   ],
   "source": [
    "idx = 300\n",
    "print(trump[idx])\n",
    "print(g_true[idx])\n",
    "print(g_predict[idx])\n",
    "print(d_true[idx])\n",
    "print(d_predict[idx])"
   ]
  },
  {
   "cell_type": "code",
   "execution_count": null,
   "metadata": {},
   "outputs": [],
   "source": []
  }
 ],
 "metadata": {
  "kernelspec": {
   "display_name": "Python 3",
   "language": "python",
   "name": "python3"
  },
  "language_info": {
   "codemirror_mode": {
    "name": "ipython",
    "version": 3
   },
   "file_extension": ".py",
   "mimetype": "text/x-python",
   "name": "python",
   "nbconvert_exporter": "python",
   "pygments_lexer": "ipython3",
   "version": "3.7.4"
  }
 },
 "nbformat": 4,
 "nbformat_minor": 4
}
